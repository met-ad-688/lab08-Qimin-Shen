{
  "cells": [
    {
      "cell_type": "markdown",
      "metadata": {},
      "source": [
        "---\n",
        "title: \"Module 05: Lab 02\"\n",
        "subtitle: \"Regression Modeling on Employment Data\"\n",
        "author:\n",
        "  - name: Qimin Shen\n",
        "    affiliations:\n",
        "      - id: bu\n",
        "        name: Boston University\n",
        "        city: Boston\n",
        "        state: MA\n",
        "number-sections: true\n",
        "date: \"2025-4-11\"\n",
        "format:\n",
        "  html:\n",
        "    theme: cerulean\n",
        "    toc: true\n",
        "    toc-depth: 2\n",
        "date-modified: today\n",
        "date-format: long\n",
        "execute: \n",
        "  echo: false\n",
        "  eval: false\n",
        "  freeze: auto\n",
        "---"
      ]
    },
    {
      "cell_type": "markdown",
      "metadata": {},
      "source": [
        "# Objectives {.unnumbered}\n",
        "\n",
        "1. Use **PySpark** to process the Lightcast dataset.\n",
        "2. Engineer features from structured columns for salary prediction.\n",
        "3. Train **Linear Regression model**.\n",
        "4. Evaluate models using **RMSE** and **R²**.\n",
        "5. Visualize predictions using diagnostic plots.\n",
        "6. Push work to GitHub and submit the repository link.\n",
        "\n",
        "# Setup {.unnumbered}\n",
        "\n",
        "The instruction below provides you with general keywords for columns used in the lightcast file. See the data schema generated after the load dataset code above to use proper column name. For visualizations, tables, or summaries, please **customize colors, fonts, and styles** as appropriate to avoid a **2.5-point deduction**. Also, **provide a two-sentence explanation** describing key insights drawn from each section's code and outputs. \n",
        "\n",
        "1. Follow the steps below as necessary, use your best judgement in importing/installing/creating/saving files as needed.\n",
        "2. Create a new Jupyter Notebook in your `ad688-sp25-lab08` directory named `lab08_yourname.ipynb`, if the file exists make sure to change the name.\n",
        "3. Use your **EC2 instance** for this lab.\n",
        "4. Ensure the `lightcast_data.csv` file is available on the EC2 instance. if not then **Download the dataset**\n",
        "5. **Add the dataset to `.gitignore`** to avoid pushing large files to GitHub. Open your `.gitignore` file and add:\n",
        "6. Make sure to create a virtual environment and install the required Python libraries if needed, don't forget to activate it:\n",
        "7. Install the required Python libraries if needed, you can also use the given requirement file to install the packages to the virtual environment:\n",
        "\n",
        "```bash\n",
        "python3 -m venv .venv\n",
        "source .venv/bin/activate\n",
        "gdown https://drive.google.com/uc?id=1V2GCHGt2dkFGqVBeoUFckU4IhUgk4ocQ\n",
        "echo \"lightcast_job_postings.csv\" >> .gitignore\n",
        "pip install -r requirements.txt\n",
        "```"
      ]
    },
    {
      "cell_type": "markdown",
      "metadata": {},
      "source": [
        "\n",
        "# Load the Dataset\n",
        "1. **Load the Raw Dataset**:\n",
        "   - Use Pyspark to the `lightcast_data.csv` file into a DataFrame:\n",
        "   - You can reuse the previous code. \n",
        "   - [Copying code from your friend constitutes plagiarism. DO NOT DO THIS]{.uured-bold}."
      ]
    },
    {
      "cell_type": "code",
      "execution_count": 5,
      "metadata": {},
      "outputs": [
        {
          "name": "stderr",
          "output_type": "stream",
          "text": [
            "                                                                                \r"
          ]
        },
        {
          "name": "stdout",
          "output_type": "stream",
          "text": [
            "root\n",
            " |-- ID: string (nullable = true)\n",
            " |-- LAST_UPDATED_DATE: date (nullable = true)\n",
            " |-- LAST_UPDATED_TIMESTAMP: timestamp (nullable = true)\n",
            " |-- DUPLICATES: integer (nullable = true)\n",
            " |-- POSTED: date (nullable = true)\n",
            " |-- EXPIRED: date (nullable = true)\n",
            " |-- DURATION: integer (nullable = true)\n",
            " |-- SOURCE_TYPES: string (nullable = true)\n",
            " |-- SOURCES: string (nullable = true)\n",
            " |-- URL: string (nullable = true)\n",
            " |-- ACTIVE_URLS: string (nullable = true)\n",
            " |-- ACTIVE_SOURCES_INFO: string (nullable = true)\n",
            " |-- TITLE_RAW: string (nullable = true)\n",
            " |-- BODY: string (nullable = true)\n",
            " |-- MODELED_EXPIRED: date (nullable = true)\n",
            " |-- MODELED_DURATION: integer (nullable = true)\n",
            " |-- COMPANY: integer (nullable = true)\n",
            " |-- COMPANY_NAME: string (nullable = true)\n",
            " |-- COMPANY_RAW: string (nullable = true)\n",
            " |-- COMPANY_IS_STAFFING: boolean (nullable = true)\n",
            " |-- EDUCATION_LEVELS: string (nullable = true)\n",
            " |-- EDUCATION_LEVELS_NAME: string (nullable = true)\n",
            " |-- MIN_EDULEVELS: integer (nullable = true)\n",
            " |-- MIN_EDULEVELS_NAME: string (nullable = true)\n",
            " |-- MAX_EDULEVELS: integer (nullable = true)\n",
            " |-- MAX_EDULEVELS_NAME: string (nullable = true)\n",
            " |-- EMPLOYMENT_TYPE: integer (nullable = true)\n",
            " |-- EMPLOYMENT_TYPE_NAME: string (nullable = true)\n",
            " |-- MIN_YEARS_EXPERIENCE: integer (nullable = true)\n",
            " |-- MAX_YEARS_EXPERIENCE: integer (nullable = true)\n",
            " |-- IS_INTERNSHIP: boolean (nullable = true)\n",
            " |-- SALARY: integer (nullable = true)\n",
            " |-- REMOTE_TYPE: integer (nullable = true)\n",
            " |-- REMOTE_TYPE_NAME: string (nullable = true)\n",
            " |-- ORIGINAL_PAY_PERIOD: string (nullable = true)\n",
            " |-- SALARY_TO: integer (nullable = true)\n",
            " |-- SALARY_FROM: integer (nullable = true)\n",
            " |-- LOCATION: string (nullable = true)\n",
            " |-- CITY: string (nullable = true)\n",
            " |-- CITY_NAME: string (nullable = true)\n",
            " |-- COUNTY: integer (nullable = true)\n",
            " |-- COUNTY_NAME: string (nullable = true)\n",
            " |-- MSA: integer (nullable = true)\n",
            " |-- MSA_NAME: string (nullable = true)\n",
            " |-- STATE: integer (nullable = true)\n",
            " |-- STATE_NAME: string (nullable = true)\n",
            " |-- COUNTY_OUTGOING: integer (nullable = true)\n",
            " |-- COUNTY_NAME_OUTGOING: string (nullable = true)\n",
            " |-- COUNTY_INCOMING: integer (nullable = true)\n",
            " |-- COUNTY_NAME_INCOMING: string (nullable = true)\n",
            " |-- MSA_OUTGOING: integer (nullable = true)\n",
            " |-- MSA_NAME_OUTGOING: string (nullable = true)\n",
            " |-- MSA_INCOMING: integer (nullable = true)\n",
            " |-- MSA_NAME_INCOMING: string (nullable = true)\n",
            " |-- NAICS2: integer (nullable = true)\n",
            " |-- NAICS2_NAME: string (nullable = true)\n",
            " |-- NAICS3: integer (nullable = true)\n",
            " |-- NAICS3_NAME: string (nullable = true)\n",
            " |-- NAICS4: integer (nullable = true)\n",
            " |-- NAICS4_NAME: string (nullable = true)\n",
            " |-- NAICS5: integer (nullable = true)\n",
            " |-- NAICS5_NAME: string (nullable = true)\n",
            " |-- NAICS6: integer (nullable = true)\n",
            " |-- NAICS6_NAME: string (nullable = true)\n",
            " |-- TITLE: string (nullable = true)\n",
            " |-- TITLE_NAME: string (nullable = true)\n",
            " |-- TITLE_CLEAN: string (nullable = true)\n",
            " |-- SKILLS: string (nullable = true)\n",
            " |-- SKILLS_NAME: string (nullable = true)\n",
            " |-- SPECIALIZED_SKILLS: string (nullable = true)\n",
            " |-- SPECIALIZED_SKILLS_NAME: string (nullable = true)\n",
            " |-- CERTIFICATIONS: string (nullable = true)\n",
            " |-- CERTIFICATIONS_NAME: string (nullable = true)\n",
            " |-- COMMON_SKILLS: string (nullable = true)\n",
            " |-- COMMON_SKILLS_NAME: string (nullable = true)\n",
            " |-- SOFTWARE_SKILLS: string (nullable = true)\n",
            " |-- SOFTWARE_SKILLS_NAME: string (nullable = true)\n",
            " |-- ONET: string (nullable = true)\n",
            " |-- ONET_NAME: string (nullable = true)\n",
            " |-- ONET_2019: string (nullable = true)\n",
            " |-- ONET_2019_NAME: string (nullable = true)\n",
            " |-- CIP6: string (nullable = true)\n",
            " |-- CIP6_NAME: string (nullable = true)\n",
            " |-- CIP4: string (nullable = true)\n",
            " |-- CIP4_NAME: string (nullable = true)\n",
            " |-- CIP2: string (nullable = true)\n",
            " |-- CIP2_NAME: string (nullable = true)\n",
            " |-- SOC_2021_2: string (nullable = true)\n",
            " |-- SOC_2021_2_NAME: string (nullable = true)\n",
            " |-- SOC_2021_3: string (nullable = true)\n",
            " |-- SOC_2021_3_NAME: string (nullable = true)\n",
            " |-- SOC_2021_4: string (nullable = true)\n",
            " |-- SOC_2021_4_NAME: string (nullable = true)\n",
            " |-- SOC_2021_5: string (nullable = true)\n",
            " |-- SOC_2021_5_NAME: string (nullable = true)\n",
            " |-- LOT_CAREER_AREA: integer (nullable = true)\n",
            " |-- LOT_CAREER_AREA_NAME: string (nullable = true)\n",
            " |-- LOT_OCCUPATION: integer (nullable = true)\n",
            " |-- LOT_OCCUPATION_NAME: string (nullable = true)\n",
            " |-- LOT_SPECIALIZED_OCCUPATION: integer (nullable = true)\n",
            " |-- LOT_SPECIALIZED_OCCUPATION_NAME: string (nullable = true)\n",
            " |-- LOT_OCCUPATION_GROUP: integer (nullable = true)\n",
            " |-- LOT_OCCUPATION_GROUP_NAME: string (nullable = true)\n",
            " |-- LOT_V6_SPECIALIZED_OCCUPATION: integer (nullable = true)\n",
            " |-- LOT_V6_SPECIALIZED_OCCUPATION_NAME: string (nullable = true)\n",
            " |-- LOT_V6_OCCUPATION: integer (nullable = true)\n",
            " |-- LOT_V6_OCCUPATION_NAME: string (nullable = true)\n",
            " |-- LOT_V6_OCCUPATION_GROUP: integer (nullable = true)\n",
            " |-- LOT_V6_OCCUPATION_GROUP_NAME: string (nullable = true)\n",
            " |-- LOT_V6_CAREER_AREA: integer (nullable = true)\n",
            " |-- LOT_V6_CAREER_AREA_NAME: string (nullable = true)\n",
            " |-- SOC_2: string (nullable = true)\n",
            " |-- SOC_2_NAME: string (nullable = true)\n",
            " |-- SOC_3: string (nullable = true)\n",
            " |-- SOC_3_NAME: string (nullable = true)\n",
            " |-- SOC_4: string (nullable = true)\n",
            " |-- SOC_4_NAME: string (nullable = true)\n",
            " |-- SOC_5: string (nullable = true)\n",
            " |-- SOC_5_NAME: string (nullable = true)\n",
            " |-- LIGHTCAST_SECTORS: string (nullable = true)\n",
            " |-- LIGHTCAST_SECTORS_NAME: string (nullable = true)\n",
            " |-- NAICS_2022_2: integer (nullable = true)\n",
            " |-- NAICS_2022_2_NAME: string (nullable = true)\n",
            " |-- NAICS_2022_3: integer (nullable = true)\n",
            " |-- NAICS_2022_3_NAME: string (nullable = true)\n",
            " |-- NAICS_2022_4: integer (nullable = true)\n",
            " |-- NAICS_2022_4_NAME: string (nullable = true)\n",
            " |-- NAICS_2022_5: integer (nullable = true)\n",
            " |-- NAICS_2022_5_NAME: string (nullable = true)\n",
            " |-- NAICS_2022_6: integer (nullable = true)\n",
            " |-- NAICS_2022_6_NAME: string (nullable = true)\n",
            "\n",
            "+--------------------+-----------------+----------------------+----------+----------+----------+--------+--------------------+--------------------+--------------------+-----------+-------------------+--------------------+--------------------+---------------+----------------+--------+--------------------+-----------+-------------------+----------------+---------------------+-------------+-------------------+-------------+------------------+---------------+--------------------+--------------------+--------------------+-------------+------+-----------+----------------+-------------------+---------+-----------+--------------------+--------------------+-------------+------+--------------+-----+--------------------+-----+----------+---------------+--------------------+---------------+--------------------+------------+--------------------+------------+--------------------+------+--------------------+------+--------------------+------+--------------------+------+--------------------+------+--------------------+------------------+-------------------+--------------------+--------------------+--------------------+--------------------+-----------------------+--------------------+--------------------+--------------------+--------------------+--------------------+--------------------+----------+--------------------+----------+--------------------+--------------------+--------------------+--------------------+--------------------+--------------------+--------------------+----------+--------------------+----------+--------------------+----------+---------------+----------+---------------+---------------+--------------------+--------------+--------------------+--------------------------+-------------------------------+--------------------+-------------------------+-----------------------------+----------------------------------+-----------------+----------------------+-----------------------+----------------------------+------------------+-----------------------+-------+--------------------+-------+--------------------+-------+---------------+-------+---------------+-----------------+----------------------+------------+--------------------+------------+--------------------+------------+--------------------+------------+--------------------+------------+--------------------+\n",
            "|                  ID|LAST_UPDATED_DATE|LAST_UPDATED_TIMESTAMP|DUPLICATES|    POSTED|   EXPIRED|DURATION|        SOURCE_TYPES|             SOURCES|                 URL|ACTIVE_URLS|ACTIVE_SOURCES_INFO|           TITLE_RAW|                BODY|MODELED_EXPIRED|MODELED_DURATION| COMPANY|        COMPANY_NAME|COMPANY_RAW|COMPANY_IS_STAFFING|EDUCATION_LEVELS|EDUCATION_LEVELS_NAME|MIN_EDULEVELS| MIN_EDULEVELS_NAME|MAX_EDULEVELS|MAX_EDULEVELS_NAME|EMPLOYMENT_TYPE|EMPLOYMENT_TYPE_NAME|MIN_YEARS_EXPERIENCE|MAX_YEARS_EXPERIENCE|IS_INTERNSHIP|SALARY|REMOTE_TYPE|REMOTE_TYPE_NAME|ORIGINAL_PAY_PERIOD|SALARY_TO|SALARY_FROM|            LOCATION|                CITY|    CITY_NAME|COUNTY|   COUNTY_NAME|  MSA|            MSA_NAME|STATE|STATE_NAME|COUNTY_OUTGOING|COUNTY_NAME_OUTGOING|COUNTY_INCOMING|COUNTY_NAME_INCOMING|MSA_OUTGOING|   MSA_NAME_OUTGOING|MSA_INCOMING|   MSA_NAME_INCOMING|NAICS2|         NAICS2_NAME|NAICS3|         NAICS3_NAME|NAICS4|         NAICS4_NAME|NAICS5|         NAICS5_NAME|NAICS6|         NAICS6_NAME|             TITLE|         TITLE_NAME|         TITLE_CLEAN|              SKILLS|         SKILLS_NAME|  SPECIALIZED_SKILLS|SPECIALIZED_SKILLS_NAME|      CERTIFICATIONS| CERTIFICATIONS_NAME|       COMMON_SKILLS|  COMMON_SKILLS_NAME|     SOFTWARE_SKILLS|SOFTWARE_SKILLS_NAME|      ONET|           ONET_NAME| ONET_2019|      ONET_2019_NAME|                CIP6|           CIP6_NAME|                CIP4|           CIP4_NAME|                CIP2|           CIP2_NAME|SOC_2021_2|     SOC_2021_2_NAME|SOC_2021_3|     SOC_2021_3_NAME|SOC_2021_4|SOC_2021_4_NAME|SOC_2021_5|SOC_2021_5_NAME|LOT_CAREER_AREA|LOT_CAREER_AREA_NAME|LOT_OCCUPATION| LOT_OCCUPATION_NAME|LOT_SPECIALIZED_OCCUPATION|LOT_SPECIALIZED_OCCUPATION_NAME|LOT_OCCUPATION_GROUP|LOT_OCCUPATION_GROUP_NAME|LOT_V6_SPECIALIZED_OCCUPATION|LOT_V6_SPECIALIZED_OCCUPATION_NAME|LOT_V6_OCCUPATION|LOT_V6_OCCUPATION_NAME|LOT_V6_OCCUPATION_GROUP|LOT_V6_OCCUPATION_GROUP_NAME|LOT_V6_CAREER_AREA|LOT_V6_CAREER_AREA_NAME|  SOC_2|          SOC_2_NAME|  SOC_3|          SOC_3_NAME|  SOC_4|     SOC_4_NAME|  SOC_5|     SOC_5_NAME|LIGHTCAST_SECTORS|LIGHTCAST_SECTORS_NAME|NAICS_2022_2|   NAICS_2022_2_NAME|NAICS_2022_3|   NAICS_2022_3_NAME|NAICS_2022_4|   NAICS_2022_4_NAME|NAICS_2022_5|   NAICS_2022_5_NAME|NAICS_2022_6|   NAICS_2022_6_NAME|\n",
            "+--------------------+-----------------+----------------------+----------+----------+----------+--------+--------------------+--------------------+--------------------+-----------+-------------------+--------------------+--------------------+---------------+----------------+--------+--------------------+-----------+-------------------+----------------+---------------------+-------------+-------------------+-------------+------------------+---------------+--------------------+--------------------+--------------------+-------------+------+-----------+----------------+-------------------+---------+-----------+--------------------+--------------------+-------------+------+--------------+-----+--------------------+-----+----------+---------------+--------------------+---------------+--------------------+------------+--------------------+------------+--------------------+------+--------------------+------+--------------------+------+--------------------+------+--------------------+------+--------------------+------------------+-------------------+--------------------+--------------------+--------------------+--------------------+-----------------------+--------------------+--------------------+--------------------+--------------------+--------------------+--------------------+----------+--------------------+----------+--------------------+--------------------+--------------------+--------------------+--------------------+--------------------+--------------------+----------+--------------------+----------+--------------------+----------+---------------+----------+---------------+---------------+--------------------+--------------+--------------------+--------------------------+-------------------------------+--------------------+-------------------------+-----------------------------+----------------------------------+-----------------+----------------------+-----------------------+----------------------------+------------------+-----------------------+-------+--------------------+-------+--------------------+-------+---------------+-------+---------------+-----------------+----------------------+------------+--------------------+------------+--------------------+------------+--------------------+------------+--------------------+------------+--------------------+\n",
            "|1f57d95acf4dc67ed...|       2024-09-06|  2024-09-07 04:32:...|         0|2024-06-02|2024-06-08|       6|   [\\n  \"Company\"\\n]|[\\n  \"brassring.c...|[\\n  \"https://sjo...|         []|               NULL|Enterprise Analys...|31-May-2024\\n\\nEn...|     2024-06-08|               6|  894731|          Murphy USA| Murphy USA|              false|       [\\n  2\\n]| [\\n  \"Bachelor's ...|            2|  Bachelor's degree|         NULL|              NULL|              1|Full-time (> 32 h...|                   2|                   2|        false|  NULL|          0|          [None]|               NULL|     NULL|       NULL|{\\n  \"lat\": 33.20...|RWwgRG9yYWRvLCBBUg==|El Dorado, AR|  5139|     Union, AR|20980|       El Dorado, AR|    5|  Arkansas|           5139|           Union, AR|           5139|           Union, AR|       20980|       El Dorado, AR|       20980|       El Dorado, AR|    44|        Retail Trade|   441|Motor Vehicle and...|  4413|Automotive Parts,...| 44133|Automotive Parts ...|441330|Automotive Parts ...|ET29C073C03D1F86B4|Enterprise Analysts|enterprise analys...|[\\n  \"KS126DB6T06...|[\\n  \"Merchandisi...|[\\n  \"KS126DB6T06...|   [\\n  \"Merchandisi...|                  []|                  []|[\\n  \"KS126706DPF...|[\\n  \"Mathematics...|[\\n  \"KS440W865GC...|[\\n  \"SQL (Progra...|15-2051.01|Business Intellig...|15-2051.01|Business Intellig...|[\\n  \"45.0601\",\\n...|[\\n  \"Economics, ...|[\\n  \"45.06\",\\n  ...|[\\n  \"Economics\",...|[\\n  \"45\",\\n  \"27...|[\\n  \"Social Scie...|   15-0000|Computer and Math...|   15-2000|Mathematical Scie...|   15-2050|Data Scientists|   15-2051|Data Scientists|             23|Information Techn...|        231010|Business Intellig...|                  23101011|           General ERP Analy...|                2310|     Business Intellig...|                     23101011|              General ERP Analy...|           231010|  Business Intellig...|                   2310|        Business Intellig...|                23|   Information Techn...|15-0000|Computer and Math...|15-2000|Mathematical Scie...|15-2050|Data Scientists|15-2051|Data Scientists|        [\\n  7\\n]|  [\\n  \"Artificial ...|          44|        Retail Trade|         441|Motor Vehicle and...|        4413|Automotive Parts,...|       44133|Automotive Parts ...|      441330|Automotive Parts ...|\n",
            "|0cb072af26757b6c4...|       2024-08-02|  2024-08-03 01:08:...|         0|2024-06-02|2024-08-01|    NULL| [\\n  \"Job Board\"\\n]| [\\n  \"maine.gov\"\\n]|[\\n  \"https://job...|         []|               NULL|Oracle Consultant...|Oracle Consultant...|     2024-08-01|            NULL|  133098|Smx Corporation L...|        SMX|               true|      [\\n  99\\n]| [\\n  \"No Educatio...|           99|No Education Listed|         NULL|              NULL|              1|Full-time (> 32 h...|                   3|                   3|        false|  NULL|          1|          Remote|               NULL|     NULL|       NULL|{\\n  \"lat\": 44.31...|    QXVndXN0YSwgTUU=|  Augusta, ME| 23011|  Kennebec, ME|12300|Augusta-Watervill...|   23|     Maine|          23011|        Kennebec, ME|          23011|        Kennebec, ME|       12300|Augusta-Watervill...|       12300|Augusta-Watervill...|    56|Administrative an...|   561|Administrative an...|  5613| Employment Services| 56132|Temporary Help Se...|561320|Temporary Help Se...|ET21DDA63780A7DC09| Oracle Consultants|oracle consultant...|[\\n  \"KS122626T55...|[\\n  \"Procurement...|[\\n  \"KS122626T55...|   [\\n  \"Procurement...|                  []|                  []|                  []|                  []|[\\n  \"BGSBF3F508F...|[\\n  \"Oracle Busi...|15-2051.01|Business Intellig...|15-2051.01|Business Intellig...|                  []|                  []|                  []|                  []|                  []|                  []|   15-0000|Computer and Math...|   15-2000|Mathematical Scie...|   15-2050|Data Scientists|   15-2051|Data Scientists|             23|Information Techn...|        231010|Business Intellig...|                  23101012|           Oracle Consultant...|                2310|     Business Intellig...|                     23101012|              Oracle Consultant...|           231010|  Business Intellig...|                   2310|        Business Intellig...|                23|   Information Techn...|15-0000|Computer and Math...|15-2000|Mathematical Scie...|15-2050|Data Scientists|15-2051|Data Scientists|             NULL|                  NULL|          56|Administrative an...|         561|Administrative an...|        5613| Employment Services|       56132|Temporary Help Se...|      561320|Temporary Help Se...|\n",
            "|85318b12b3331fa49...|       2024-09-06|  2024-09-07 04:32:...|         1|2024-06-02|2024-07-07|      35| [\\n  \"Job Board\"\\n]|[\\n  \"dejobs.org\"\\n]|[\\n  \"https://dej...|         []|               NULL|        Data Analyst|Taking care of pe...|     2024-06-10|               8|39063746|            Sedgwick|   Sedgwick|              false|       [\\n  2\\n]| [\\n  \"Bachelor's ...|            2|  Bachelor's degree|         NULL|              NULL|              1|Full-time (> 32 h...|                   5|                NULL|        false|  NULL|          0|          [None]|               NULL|     NULL|       NULL|{\\n  \"lat\": 32.77...|    RGFsbGFzLCBUWA==|   Dallas, TX| 48113|    Dallas, TX|19100|Dallas-Fort Worth...|   48|     Texas|          48113|          Dallas, TX|          48113|          Dallas, TX|       19100|Dallas-Fort Worth...|       19100|Dallas-Fort Worth...|    52|Finance and Insur...|   524|Insurance Carrier...|  5242|Agencies, Brokera...| 52429|Other Insurance R...|524291|    Claims Adjusting|ET3037E0C947A02404|      Data Analysts|        data analyst|[\\n  \"KS1218W78FG...|[\\n  \"Management\"...|[\\n  \"ESF3939CE1F...|   [\\n  \"Exception R...|[\\n  \"KS683TN76T7...|[\\n  \"Security Cl...|[\\n  \"KS1218W78FG...|[\\n  \"Management\"...|[\\n  \"KS126HY6YLT...|[\\n  \"Microsoft O...|15-2051.01|Business Intellig...|15-2051.01|Business Intellig...|                  []|                  []|                  []|                  []|                  []|                  []|   15-0000|Computer and Math...|   15-2000|Mathematical Scie...|   15-2050|Data Scientists|   15-2051|Data Scientists|             23|Information Techn...|        231113|Data / Data Minin...|                  23111310|                   Data Analyst|                2311|     Data Analysis and...|                     23111310|                      Data Analyst|           231113|  Data / Data Minin...|                   2311|        Data Analysis and...|                23|   Information Techn...|15-0000|Computer and Math...|15-2000|Mathematical Scie...|15-2050|Data Scientists|15-2051|Data Scientists|             NULL|                  NULL|          52|Finance and Insur...|         524|Insurance Carrier...|        5242|Agencies, Brokera...|       52429|Other Insurance R...|      524291|    Claims Adjusting|\n",
            "|1b5c3941e54a1889e...|       2024-09-06|  2024-09-07 04:32:...|         1|2024-06-02|2024-07-20|      48| [\\n  \"Job Board\"\\n]|[\\n  \"disabledper...|[\\n  \"https://www...|         []|               NULL|Sr. Lead Data Mgm...|About this role:\\...|     2024-06-12|              10|37615159|         Wells Fargo|Wells Fargo|              false|      [\\n  99\\n]| [\\n  \"No Educatio...|           99|No Education Listed|         NULL|              NULL|              1|Full-time (> 32 h...|                   3|                NULL|        false|  NULL|          0|          [None]|               NULL|     NULL|       NULL|{\\n  \"lat\": 33.44...|    UGhvZW5peCwgQVo=|  Phoenix, AZ|  4013|  Maricopa, AZ|38060|Phoenix-Mesa-Chan...|    4|   Arizona|           4013|        Maricopa, AZ|           4013|        Maricopa, AZ|       38060|Phoenix-Mesa-Chan...|       38060|Phoenix-Mesa-Chan...|    52|Finance and Insur...|   522|Credit Intermedia...|  5221|Depository Credit...| 52211|  Commercial Banking|522110|  Commercial Banking|ET2114E0404BA30075|Management Analysts|sr lead data mgmt...|[\\n  \"KS123QX62QY...|[\\n  \"Exit Strate...|[\\n  \"KS123QX62QY...|   [\\n  \"Exit Strate...|                  []|                  []|[\\n  \"KS7G6NP6R6L...|[\\n  \"Reliability...|[\\n  \"KS4409D76NW...|[\\n  \"SAS (Softwa...|15-2051.01|Business Intellig...|15-2051.01|Business Intellig...|                  []|                  []|                  []|                  []|                  []|                  []|   15-0000|Computer and Math...|   15-2000|Mathematical Scie...|   15-2050|Data Scientists|   15-2051|Data Scientists|             23|Information Techn...|        231113|Data / Data Minin...|                  23111310|                   Data Analyst|                2311|     Data Analysis and...|                     23111310|                      Data Analyst|           231113|  Data / Data Minin...|                   2311|        Data Analysis and...|                23|   Information Techn...|15-0000|Computer and Math...|15-2000|Mathematical Scie...|15-2050|Data Scientists|15-2051|Data Scientists|        [\\n  6\\n]|  [\\n  \"Data Privac...|          52|Finance and Insur...|         522|Credit Intermedia...|        5221|Depository Credit...|       52211|  Commercial Banking|      522110|  Commercial Banking|\n",
            "|cb5ca25f02bdf25c1...|       2024-06-19|   2024-06-19 15:00:00|         0|2024-06-02|2024-06-17|      15|[\\n  \"FreeJobBoar...|[\\n  \"craigslist....|[\\n  \"https://mod...|         []|               NULL|Comisiones de $10...|Comisiones de $10...|     2024-06-17|              15|       0|        Unclassified|      LH/GM|              false|      [\\n  99\\n]| [\\n  \"No Educatio...|           99|No Education Listed|         NULL|              NULL|              3|Part-time / full-...|                NULL|                NULL|        false| 92500|          0|          [None]|               year|   150000|      35000|{\\n  \"lat\": 37.63...|    TW9kZXN0bywgQ0E=|  Modesto, CA|  6099|Stanislaus, CA|33700|         Modesto, CA|    6|California|           6099|      Stanislaus, CA|           6099|      Stanislaus, CA|       33700|         Modesto, CA|       33700|         Modesto, CA|    99|Unclassified Indu...|   999|Unclassified Indu...|  9999|Unclassified Indu...| 99999|Unclassified Indu...|999999|Unclassified Indu...|ET0000000000000000|       Unclassified|comisiones de por...|                  []|                  []|                  []|                     []|                  []|                  []|                  []|                  []|                  []|                  []|15-2051.01|Business Intellig...|15-2051.01|Business Intellig...|                  []|                  []|                  []|                  []|                  []|                  []|   15-0000|Computer and Math...|   15-2000|Mathematical Scie...|   15-2050|Data Scientists|   15-2051|Data Scientists|             23|Information Techn...|        231010|Business Intellig...|                  23101012|           Oracle Consultant...|                2310|     Business Intellig...|                     23101012|              Oracle Consultant...|           231010|  Business Intellig...|                   2310|        Business Intellig...|                23|   Information Techn...|15-0000|Computer and Math...|15-2000|Mathematical Scie...|15-2050|Data Scientists|15-2051|Data Scientists|             NULL|                  NULL|          99|Unclassified Indu...|         999|Unclassified Indu...|        9999|Unclassified Indu...|       99999|Unclassified Indu...|      999999|Unclassified Indu...|\n",
            "+--------------------+-----------------+----------------------+----------+----------+----------+--------+--------------------+--------------------+--------------------+-----------+-------------------+--------------------+--------------------+---------------+----------------+--------+--------------------+-----------+-------------------+----------------+---------------------+-------------+-------------------+-------------+------------------+---------------+--------------------+--------------------+--------------------+-------------+------+-----------+----------------+-------------------+---------+-----------+--------------------+--------------------+-------------+------+--------------+-----+--------------------+-----+----------+---------------+--------------------+---------------+--------------------+------------+--------------------+------------+--------------------+------+--------------------+------+--------------------+------+--------------------+------+--------------------+------+--------------------+------------------+-------------------+--------------------+--------------------+--------------------+--------------------+-----------------------+--------------------+--------------------+--------------------+--------------------+--------------------+--------------------+----------+--------------------+----------+--------------------+--------------------+--------------------+--------------------+--------------------+--------------------+--------------------+----------+--------------------+----------+--------------------+----------+---------------+----------+---------------+---------------+--------------------+--------------+--------------------+--------------------------+-------------------------------+--------------------+-------------------------+-----------------------------+----------------------------------+-----------------+----------------------+-----------------------+----------------------------+------------------+-----------------------+-------+--------------------+-------+--------------------+-------+---------------+-------+---------------+-----------------+----------------------+------------+--------------------+------------+--------------------+------------+--------------------+------------+--------------------+------------+--------------------+\n",
            "only showing top 5 rows\n",
            "\n"
          ]
        }
      ],
      "source": [
        "#| eval: false\n",
        "#| echo: true\n",
        "import os\n",
        "\n",
        "os.environ[\"SPARK_HOME\"] = \"/opt/spark-3.5.5-bin-hadoop3\"\n",
        "os.environ[\"PATH\"] = f\"/opt/spark-3.5.5-bin-hadoop3/bin:{os.environ['PATH']}\"\n",
        "\n",
        "from pyspark.sql import SparkSession\n",
        "import pandas as pd\n",
        "import plotly.express as px\n",
        "import plotly.io as pio\n",
        "pio.renderers.default = \"notebook\"\n",
        "from pyspark.sql import SparkSession\n",
        "from pyspark.sql.types import DoubleType\n",
        "from pyspark.sql.functions import col, when, regexp_extract\n",
        "import shutil\n",
        "import plotly.figure_factory as ff \n",
        "\n",
        "spark = SparkSession.builder \\\n",
        "    .appName(\"LightcastData\") \\\n",
        "    .getOrCreate()\n",
        "\n",
        "data_path = \"/home/xn/lightcast_job_postings.csv\"\n",
        "df = spark.read.option(\"header\", \"true\").option(\"inferSchema\", \"true\").option(\"multiLine\",\"true\").option(\"escape\", \"\\\"\").csv(data_path)\n",
        "\n",
        "df.printSchema() # comment this line when rendering the submission\n",
        "df.show(5)"
      ]
    },
    {
      "cell_type": "markdown",
      "metadata": {},
      "source": [
        "# Feature Engineering\n",
        "\n",
        "Feature Engineering is a crucial step in preparing your data for machine learning. In this lab, we will focus on the following tasks:\n",
        "\n",
        "1. **Drop rows with missing values** in the target variable and key features.\n",
        "2. By now you are already familiar with the code and the data. Based on your understanding please choose any 3 (my code output has 10) variables as:\n",
        "   1. two continuous variables (use your best judgment!)\n",
        "   2. one categorical.\n",
        "   3. Your dependent variable (y) is `SALARY`.\n",
        "3. **Convert categorical variables** into numerical representations using **StringIndexer** and **OneHotEncoder**.\n",
        "4. **Assemble features** into a single vector using **VectorAssembler**.\n",
        "5. **Split the data** into training and testing sets."
      ]
    },
    {
      "cell_type": "code",
      "execution_count": 6,
      "metadata": {},
      "outputs": [
        {
          "name": "stderr",
          "output_type": "stream",
          "text": [
            "                                                                                \r"
          ]
        },
        {
          "name": "stdout",
          "output_type": "stream",
          "text": [
            "+-----------------+-----+\n",
            "|         features|label|\n",
            "+-----------------+-----+\n",
            "|(4,[1],[30000.0])|68970|\n",
            "|(4,[1],[35360.0])|35360|\n",
            "|(4,[1],[37440.0])|37440|\n",
            "|(4,[1],[37440.0])|37440|\n",
            "|(4,[1],[65345.0])|80579|\n",
            "+-----------------+-----+\n",
            "only showing top 5 rows\n",
            "\n"
          ]
        },
        {
          "name": "stderr",
          "output_type": "stream",
          "text": [
            "[Stage 20:>                                                         (0 + 1) / 1]\r"
          ]
        },
        {
          "name": "stdout",
          "output_type": "stream",
          "text": [
            "+--------------------+-----+\n",
            "|            features|label|\n",
            "+--------------------+-----+\n",
            "|   (4,[1],[41600.0])|73485|\n",
            "|   (4,[1],[65000.0])|70000|\n",
            "|[0.0,15000.0,1.0,...|70299|\n",
            "|[0.0,20800.0,0.0,...|23585|\n",
            "|[0.0,33176.0,0.0,...|33176|\n",
            "+--------------------+-----+\n",
            "only showing top 5 rows\n",
            "\n"
          ]
        },
        {
          "name": "stderr",
          "output_type": "stream",
          "text": [
            "                                                                                \r"
          ]
        }
      ],
      "source": [
        "#| eval: false\n",
        "#| echo: true\n",
        "from pyspark.sql.functions import col\n",
        "from pyspark.ml.feature import StringIndexer, OneHotEncoder, VectorAssembler\n",
        "\n",
        "selected_cols = [\"SALARY\", \"MIN_YEARS_EXPERIENCE\", \"SALARY_FROM\", \"EMPLOYMENT_TYPE_NAME\"]\n",
        "df_clean = df.select(selected_cols).dropna()\n",
        "\n",
        "indexer = StringIndexer(inputCol=\"EMPLOYMENT_TYPE_NAME\", outputCol=\"EMPLOYMENT_TYPE_INDEX\")\n",
        "df_indexed = indexer.fit(df_clean).transform(df_clean)\n",
        "\n",
        "encoder = OneHotEncoder(inputCol=\"EMPLOYMENT_TYPE_INDEX\", outputCol=\"EMPLOYMENT_TYPE_VEC\")\n",
        "df_encoded = encoder.fit(df_indexed).transform(df_indexed)\n",
        "\n",
        "assembler = VectorAssembler(\n",
        "    inputCols=[\"MIN_YEARS_EXPERIENCE\", \"SALARY_FROM\", \"EMPLOYMENT_TYPE_VEC\"],\n",
        "    outputCol=\"features\"\n",
        ")\n",
        "df_final = assembler.transform(df_encoded)\n",
        "\n",
        "final_data = df_final.select(col(\"features\"), col(\"SALARY\").alias(\"label\"))\n",
        "\n",
        "train_data, test_data = final_data.randomSplit([0.7, 0.3], seed=688)\n",
        "\n",
        "train_data.show(5)\n",
        "test_data.show(5)"
      ]
    },
    {
      "cell_type": "markdown",
      "metadata": {},
      "source": [
        "# Train/Test Split\n",
        "\n",
        "- Perform a **random split** of the data into training and testing sets.\n",
        "- Set a random seed for reproducibility.\n",
        "- You can choose a number for splitting to your liking, justify your choice."
      ]
    },
    {
      "cell_type": "code",
      "execution_count": 28,
      "metadata": {},
      "outputs": [
        {
          "name": "stderr",
          "output_type": "stream",
          "text": [
            "                                                                                \r"
          ]
        },
        {
          "name": "stdout",
          "output_type": "stream",
          "text": [
            "(18999, 2)\n"
          ]
        },
        {
          "name": "stderr",
          "output_type": "stream",
          "text": [
            "[Stage 50:>                                                         (0 + 1) / 1]\r"
          ]
        },
        {
          "name": "stdout",
          "output_type": "stream",
          "text": [
            "(4705, 2)\n"
          ]
        },
        {
          "name": "stderr",
          "output_type": "stream",
          "text": [
            "                                                                                \r"
          ]
        }
      ],
      "source": [
        "#| eval: true\n",
        "#| echo: false\n",
        "train_data, test_data = final_data.randomSplit([0.8, 0.2], seed=688)\n",
        "print((train_data.count(), len(train_data.columns)))\n",
        "print((test_data.count(), len(test_data.columns)))"
      ]
    },
    {
      "cell_type": "markdown",
      "metadata": {},
      "source": [
        "The dataset was randomly split into a training set (80%) and a test set (20%) using randomSplit([0.8, 0.2], seed=688). This resulted in 18,999 records for training and 4,705 for testing, totaling 23,704 records."
      ]
    },
    {
      "cell_type": "markdown",
      "metadata": {},
      "source": [
        "# Linear Regression\n",
        "\n",
        "- Train a **Linear Regression** model using the training data. [You will run in to an important issue here. Please make an effort in figuring it by yourself. This is one of the most asked interview questions in CapitalOne's management recruiting program.]{.uured-bold}\n",
        "- Evaluate the model on the test data.\n",
        "- Print the coefficients, intercept, R², RMSE, and MAE.\n",
        "- Use the `summary` object to extract the coefficients and their standard errors, t-values, and p-values.\n",
        "- Create a DataFrame to display the coefficients, standard errors, t-values, p-values, and confidence intervals.\n",
        "- Interpret the coefficients and their significance and explain the model performance metrics."
      ]
    },
    {
      "cell_type": "code",
      "execution_count": 10,
      "metadata": {},
      "outputs": [
        {
          "name": "stderr",
          "output_type": "stream",
          "text": [
            "25/04/11 02:12:27 WARN Instrumentation: [feea54db] regParam is zero, which might cause numerical instability and overfitting.\n",
            "25/04/11 02:12:31 WARN InstanceBuilder: Failed to load implementation from:dev.ludovic.netlib.blas.JNIBLAS\n",
            "25/04/11 02:12:31 WARN InstanceBuilder: Failed to load implementation from:dev.ludovic.netlib.lapack.JNILAPACK\n",
            "                                                                                \r"
          ]
        },
        {
          "name": "stdout",
          "output_type": "stream",
          "text": [
            "R²: 0.8412012932179281\n",
            "RMSE: 17326.42176937338\n",
            "MAE: 13668.641926030183\n",
            "Intercept: 22845.780380124743\n",
            "Number of coefficients: 4\n"
          ]
        },
        {
          "name": "stderr",
          "output_type": "stream",
          "text": [
            "                                                                                \r"
          ]
        },
        {
          "name": "stdout",
          "output_type": "stream",
          "text": [
            "+-------------+------------------+--------------------+-------------------+-------------------+-------------------+------------------+\n",
            "|feature_index|       coefficient|      standard_error|            t_value|            p_value|           ci_lower|          ci_upper|\n",
            "+-------------+------------------+--------------------+-------------------+-------------------+-------------------+------------------+\n",
            "|            0|2683.1576120508757|  40.863560155453946|  65.66137658695315|                0.0|  2603.065034146186|2763.2501899555655|\n",
            "|            1|0.9548687896340677|0.003665551776995...|  260.4979680348764|                0.0| 0.9476843081511558|0.9620532711169797|\n",
            "|            2|-9939.179124576016|   941.5318223689148|-10.556392135072846|                0.0|-11784.581496419089|-8093.776752732943|\n",
            "|            3|-6559.643810275468|  1210.3296726459948| -5.419716593359994|6.04206762400139E-8| -8931.889968661619|-4187.397651889318|\n",
            "+-------------+------------------+--------------------+-------------------+-------------------+-------------------+------------------+\n",
            "\n"
          ]
        }
      ],
      "source": [
        "#| eval: false\n",
        "#| echo: false\n",
        "from pyspark.ml.regression import LinearRegression\n",
        "\n",
        "lr = LinearRegression(featuresCol=\"features\", labelCol=\"label\")\n",
        "\n",
        "lr_model = lr.fit(train_data)\n",
        "\n",
        "test_results = lr_model.evaluate(test_data)\n",
        "\n",
        "print(\"R²:\", test_results.r2)\n",
        "print(\"RMSE:\", test_results.rootMeanSquaredError)\n",
        "print(\"MAE:\", test_results.meanAbsoluteError)\n",
        "\n",
        "print(\"Intercept:\", lr_model.intercept)\n",
        "print(\"Number of coefficients:\", len(lr_model.coefficients))\n",
        "\n",
        "training_summary = lr_model.summary\n",
        "\n",
        "coefs = lr_model.coefficients\n",
        "se = training_summary.coefficientStandardErrors\n",
        "tvals = training_summary.tValues\n",
        "pvals = training_summary.pValues\n",
        "\n",
        "import pandas as pd\n",
        "from pyspark.sql import Row\n",
        "\n",
        "rows = []\n",
        "for i in range(len(coefs)):\n",
        "    rows.append(Row(\n",
        "        feature_index=i,\n",
        "        coefficient=float(coefs[i]),\n",
        "        standard_error=float(se[i]),\n",
        "        t_value=float(tvals[i]),\n",
        "        p_value=float(pvals[i]),\n",
        "        ci_lower=float(coefs[i] - 1.96 * se[i]),\n",
        "        ci_upper=float(coefs[i] + 1.96 * se[i])\n",
        "    ))\n",
        "\n",
        "diagnostic_df = spark.createDataFrame(rows)\n",
        "diagnostic_df.show(10)"
      ]
    },
    {
      "cell_type": "markdown",
      "metadata": {},
      "source": [
        "The linear regression model achieved an R² score of 0.841, indicating that approximately 84.1% of the variance in the target variable (salary) is explained by the model.\n",
        "The RMSE of 17,326 and MAE of 13,668 show that the model has a reasonably low average error when predicting salary values.\n",
        "\n",
        "The model has 4 coefficients, with each corresponding to a feature in the dataset. Notably: The coefficients for feature 0 and 1 are positive and statistically significant (p < 0.05), indicating a strong positive relationship with salary.The coefficients for features 2 and 3 are negative and significant, suggesting that those categorical levels (from one-hot encoding) are associated with lower expected salary.\n",
        "\n",
        "All p-values are essentially 0, implying strong statistical significance. Confidence intervals do not cross zero, further confirming the significance of the predictors."
      ]
    },
    {
      "cell_type": "markdown",
      "metadata": {},
      "source": [
        "## Generalized Linear Regression Summary\n",
        "The summary of the Generalized Linear Regression model provides important insights into the model's performance and the significance of each feature. The coefficients indicate the relationship between each feature and the target variable (salary), while the standard errors, t-values, and p-values help assess the reliability of these estimates.\n",
        "\n",
        "- Please interpret them in the context of your data and model. \n",
        "- Feature Names are purposefully not printed in the output. You can use the `features` variable to print them out."
      ]
    },
    {
      "cell_type": "code",
      "execution_count": 11,
      "metadata": {},
      "outputs": [
        {
          "name": "stdout",
          "output_type": "stream",
          "text": [
            "+--------------------+------------------+--------------------+-------------------+-------------------+-------------------+------------------+\n",
            "|             feature|       coefficient|           std_error|            t_value|            p_value|           ci_lower|          ci_upper|\n",
            "+--------------------+------------------+--------------------+-------------------+-------------------+-------------------+------------------+\n",
            "|MIN_YEARS_EXPERIENCE|2683.1576120508757|  40.863560155453946|  65.66137658695315|                0.0|  2603.065034146186|2763.2501899555655|\n",
            "|         SALARY_FROM|0.9548687896340677|0.003665551776995...|  260.4979680348764|                0.0| 0.9476843081511558|0.9620532711169797|\n",
            "|   EMPLOYMENT_TYPE_0|-9939.179124576016|   941.5318223689148|-10.556392135072846|                0.0|-11784.581496419089|-8093.776752732943|\n",
            "|   EMPLOYMENT_TYPE_1|-6559.643810275468|  1210.3296726459948| -5.419716593359994|6.04206762400139E-8| -8931.889968661619|-4187.397651889318|\n",
            "+--------------------+------------------+--------------------+-------------------+-------------------+-------------------+------------------+\n",
            "\n"
          ]
        }
      ],
      "source": [
        "#| eval: true\n",
        "#| echo: false\n",
        "assembler = VectorAssembler(\n",
        "    inputCols=[\"MIN_YEARS_EXPERIENCE\", \"SALARY_FROM\", \"EMPLOYMENT_TYPE_VEC\"],\n",
        "    outputCol=\"features\"\n",
        ")\n",
        "\n",
        "features = assembler.getInputCols()\n",
        "\n",
        "ohe_model = encoder.fit(df_indexed)\n",
        "category_sizes = ohe_model.categorySizes  \n",
        "\n",
        "feature_names = [\"MIN_YEARS_EXPERIENCE\", \"SALARY_FROM\"] + \\\n",
        "                [f\"EMPLOYMENT_TYPE_{i}\" for i in range(category_sizes[0])]\n",
        "\n",
        "coef_info = list(zip(\n",
        "    feature_names,\n",
        "    lr_model.coefficients,\n",
        "    training_summary.coefficientStandardErrors,\n",
        "    training_summary.tValues,\n",
        "    training_summary.pValues\n",
        "))\n",
        "\n",
        "coef_df = spark.createDataFrame([\n",
        "    Row(\n",
        "        feature=feature,\n",
        "        coefficient=float(coef),\n",
        "        std_error=float(se),\n",
        "        t_value=float(tval),\n",
        "        p_value=float(pval),\n",
        "        ci_lower=float(coef - 1.96 * se),\n",
        "        ci_upper=float(coef + 1.96 * se)\n",
        "    )\n",
        "    for feature, coef, se, tval, pval in coef_info\n",
        "])\n",
        "\n",
        "coef_df.show(10)\n",
        "\n"
      ]
    },
    {
      "cell_type": "markdown",
      "metadata": {},
      "source": [
        "MIN_YEARS_EXPERIENCE has a positive coefficient (~2683), indicating that each additional year of experience is associated with an increase in salary by about $2,683, holding other factors constant. The low p-value (0.0) confirms that this relationship is statistically significant.\n",
        "\n",
        "SALARY_FROM also shows a strong positive relationship with the target variable. For every additional dollar in the job’s minimum posted salary, the expected final salary increases by approximately 0.95 dollars. Its extremely small standard error and very high t-value support the reliability of this estimate.\n",
        "\n",
        "EMPLOYMENT_TYPE_0 and EMPLOYMENT_TYPE_1 (these likely represent specific job types like part-time or contract, from one-hot encoding) have negative coefficients (-9939 and -6559), meaning jobs with these types tend to have lower predicted salaries compared to the baseline type (which was not one-hot encoded).\n",
        "Their confidence intervals do not cross zero, and their p-values are also highly significant (<< 0.05), showing that these effects are meaningful."
      ]
    },
    {
      "cell_type": "markdown",
      "metadata": {},
      "source": [
        "# Diagnostic Plot\n",
        "\n",
        "Diagnostic plots are essential for evaluating the performance of regression models. In this section, we will create several diagnostic plots to assess the linear regression model's assumptions and performance. There are four (2*2 grid) main plots we will create, you can use `seaborn` or `matplotlib` for this:\n",
        "\n",
        "1. **Predicted vs Actual Plot**\n",
        "2. **Residuals vs Predicted Plot**\n",
        "3. **Histogram of Residuals**\n",
        "4. **QQ Plot of Residuals**\n"
      ]
    },
    {
      "cell_type": "code",
      "execution_count": 26,
      "metadata": {},
      "outputs": [
        {
          "name": "stderr",
          "output_type": "stream",
          "text": [
            "                                                                                \r"
          ]
        }
      ],
      "source": [
        "#| eval: true\n",
        "#| echo: false\n",
        "import matplotlib.pyplot as plt\n",
        "import seaborn as sns\n",
        "import scipy.stats as stats\n",
        "\n",
        "import numpy as np\n",
        "import pandas as pd\n",
        "import matplotlib.pyplot as plt\n",
        "import seaborn as sns\n",
        "import scipy.stats as stats\n",
        "\n",
        "predictions = lr_model.transform(test_data)\n",
        "\n",
        "pred_pd = predictions.select(\"prediction\", \"label\").toPandas()\n",
        "\n",
        "pred_pd[\"residual\"] = pred_pd[\"label\"] - pred_pd[\"prediction\"]\n",
        "\n",
        "sns.set(style=\"whitegrid\")\n",
        "plt.rcParams.update({'axes.facecolor': 'white'})\n",
        "\n",
        "pred_pd[\"residual\"] = pred_pd[\"label\"] - pred_pd[\"prediction\"]\n",
        "\n",
        "fig, axs = plt.subplots(2, 2, figsize=(14, 10))\n",
        "\n",
        "sns.scatterplot(x=\"prediction\", y=\"label\", data=pred_pd, color=\"skyblue\", alpha=0.6, ax=axs[0, 0])\n",
        "sns.regplot(x=\"prediction\", y=\"label\", data=pred_pd, scatter=False, ax=axs[0, 0], color=\"darkred\", line_kws={\"lw\":2})\n",
        "axs[0, 0].set_title(\"Predicted vs Actual\", fontsize=12)\n",
        "axs[0, 0].set_xlabel(\"Predicted Salary\")\n",
        "axs[0, 0].set_ylabel(\"Actual Salary\")\n",
        "\n",
        "sns.scatterplot(x=\"prediction\", y=\"residual\", data=pred_pd, color=\"skyblue\", alpha=0.6, ax=axs[0, 1])\n",
        "sns.regplot(x=\"prediction\", y=\"residual\", data=pred_pd, scatter=False, ax=axs[0, 1], color=\"darkred\", line_kws={\"lw\":2})\n",
        "axs[0, 1].axhline(0, color=\"gray\", linestyle=\"--\")\n",
        "axs[0, 1].set_title(\"Residuals vs Predicted\", fontsize=12)\n",
        "axs[0, 1].set_xlabel(\"Predicted Salary\")\n",
        "axs[0, 1].set_ylabel(\"Residuals\")\n",
        "\n",
        "sns.histplot(pred_pd[\"residual\"], kde=True, bins=30, color=\"cornflowerblue\", ax=axs[1, 0], edgecolor=\"black\")\n",
        "sns.kdeplot(pred_pd[\"residual\"], color=\"darkred\", lw=2, ax=axs[1, 0])\n",
        "axs[1, 0].set_title(\"Histogram of Residuals\")\n",
        "axs[1, 0].set_xlabel(\"Residuals\")\n",
        "\n",
        "stats.probplot(pred_pd[\"residual\"], dist=\"norm\", plot=axs[1, 1])\n",
        "axs[1, 1].get_lines()[1].set_color(\"darkred\")\n",
        "axs[1, 1].get_lines()[1].set_linewidth(2)\n",
        "axs[1, 1].set_title(\"QQ Plot of Residuals\")\n",
        "\n",
        "plt.tight_layout()\n",
        "plt.savefig(\"_output/diagnostic_plots.png\", dpi=300)\n",
        "plt.close()"
      ]
    },
    {
      "cell_type": "markdown",
      "metadata": {},
      "source": [
        "![Diagnostic Plots](./_output/diagnostic_plots.png)"
      ]
    },
    {
      "cell_type": "markdown",
      "metadata": {},
      "source": [
        "Predicted vs Actual Plot (Top Left):\n",
        "The data points mostly align with the red reference line (y = x), indicating that the model predicts salaries well. The linear trend suggests a strong fit between predicted and actual values.\n",
        "\n",
        "Residuals vs Predicted Plot (Top Right):\n",
        "Residuals are randomly scattered around the zero line, supporting the assumption of linearity and indicating that the model does not suffer from major systematic bias. However, there is some heteroscedasticity (increasing spread at higher predictions) which might suggest variance is not constant.\n",
        "\n",
        "Histogram of Residuals (Bottom Left):\n",
        "The distribution of residuals is approximately normal, though slightly left-skewed. This supports the assumption of normally distributed errors, which is key for statistical inference validity.\n",
        "\n",
        "QQ Plot of Residuals (Bottom Right):\n",
        "Most points fall along the red reference line, confirming that the residuals follow a normal distribution. Deviations in the tails may indicate mild outliers or slight non-normality at the extremes."
      ]
    },
    {
      "cell_type": "markdown",
      "metadata": {},
      "source": [
        "# Evaluation\n",
        "\n",
        "The evaluation of the model is crucial to understand its performance. In this section, we will calculate and visualize the following metrics:\n",
        "1. **R² (Coefficient of Determination)**: Indicates how well the model explains the variance in the target variable.\n",
        "2. **RMSE (Root Mean Squared Error)**: Measures the average magnitude of the errors between predicted and actual values."
      ]
    },
    {
      "cell_type": "code",
      "execution_count": 30,
      "metadata": {},
      "outputs": [
        {
          "name": "stderr",
          "output_type": "stream",
          "text": [
            "[Stage 54:>                                                         (0 + 1) / 1]\r"
          ]
        },
        {
          "name": "stdout",
          "output_type": "stream",
          "text": [
            "R² (R-squared): 0.8412012932179281\n",
            "RMSE (Root Mean Squared Error): 17326.42176937338\n"
          ]
        },
        {
          "name": "stderr",
          "output_type": "stream",
          "text": [
            "                                                                                \r"
          ]
        }
      ],
      "source": [
        "#| eval: true\n",
        "#| echo: false\n",
        "from pyspark.ml.evaluation import RegressionEvaluator\n",
        "from pyspark.sql.functions import col, pow, sqrt, avg\n",
        "import numpy as np\n",
        "\n",
        "test_results = lr_model.evaluate(test_data)\n",
        "\n",
        "r2 = test_results.r2\n",
        "rmse = test_results.rootMeanSquaredError\n",
        "\n",
        "print(\"R² (R-squared):\", r2)\n",
        "print(\"RMSE (Root Mean Squared Error):\", rmse)\n",
        "\n",
        "import matplotlib.pyplot as plt\n",
        "\n",
        "metrics = [\"R²\", \"RMSE\"]\n",
        "values = [r2, rmse]\n",
        "\n",
        "plt.figure(figsize=(6, 4))\n",
        "bars = plt.bar(metrics, values, color=[\"seagreen\", \"steelblue\"])\n",
        "plt.title(\"Model Evaluation Metrics\", fontsize=14)\n",
        "\n",
        "for bar in bars:\n",
        "    yval = bar.get_height()\n",
        "    plt.text(bar.get_x() + bar.get_width()/2.0, yval + 0.01, f\"{yval:.3f}\", ha='center', va='bottom')\n",
        "\n",
        "plt.ylabel(\"Value\")\n",
        "plt.ylim(0, max(values) * 1.1)\n",
        "plt.savefig(\"_output/model_metrics_barplot.png\", dpi=300)\n",
        "plt.close()"
      ]
    },
    {
      "cell_type": "markdown",
      "metadata": {},
      "source": [
        "![Model Evaluation Metrics](./_output/model_metrics_barplot.png)"
      ]
    },
    {
      "cell_type": "markdown",
      "metadata": {},
      "source": [
        "The model achieved an R² score of 0.841, which means that approximately 84.1% of the variance in the target variable (salary) is explained by the selected features in the linear regression model. This indicates a strong fit and high explanatory power.\n",
        "\n",
        "The RMSE is 17,326, which represents the average magnitude of the prediction errors. This means, on average, the model's predicted salary differs from the actual salary by around $17,326."
      ]
    },
    {
      "cell_type": "markdown",
      "metadata": {},
      "source": [
        "## Model Evaluation Plot\n",
        "\n",
        "- Display the predicted vs actual salary plot with a red line indicating the ideal fit (y=x).\n",
        "- Use `seaborn` or `matplotlib` to create the plot.\n",
        "- Customize the plot with appropriate titles, labels, and legends.\n",
        "- Describe the plot in a few sentences, highlighting key insights and observations."
      ]
    },
    {
      "cell_type": "code",
      "execution_count": 27,
      "metadata": {},
      "outputs": [],
      "source": [
        "#| eval: true\n",
        "#| echo: false\n",
        "import pandas as pd\n",
        "import matplotlib.pyplot as plt\n",
        "import seaborn as sns\n",
        "\n",
        "plt.figure(figsize=(7, 6))\n",
        "sns.scatterplot(x=\"prediction\", y=\"label\", data=pred_pd, alpha=0.5, color=\"skyblue\", label=\"Predictions\")\n",
        "\n",
        "max_val = max(pred_pd[\"prediction\"].max(), pred_pd[\"label\"].max())\n",
        "min_val = min(pred_pd[\"prediction\"].min(), pred_pd[\"label\"].min())\n",
        "plt.plot([min_val, max_val], [min_val, max_val], color=\"darkred\", linestyle=\"--\", linewidth=2, label=\"Ideal Fit (y = x)\")\n",
        "\n",
        "plt.title(\"Predicted vs Actual Salary\", fontsize=14)\n",
        "plt.xlabel(\"Predicted Salary\")\n",
        "plt.ylabel(\"Actual Salary\")\n",
        "plt.legend()\n",
        "plt.grid(True)\n",
        "plt.tight_layout()\n",
        "plt.savefig(\"_output/predicted_vs_actual.png\", dpi=300)\n",
        "plt.close()"
      ]
    },
    {
      "cell_type": "markdown",
      "metadata": {},
      "source": [
        "![Diagnostic Plots](./_output/predicted_vs_actual.png)"
      ]
    },
    {
      "cell_type": "markdown",
      "metadata": {},
      "source": [
        "This plot compares the predicted salaries (x-axis) to the actual salaries (y-axis) in the test dataset.\n",
        "The dashed red line represents the ideal scenario where predictions perfectly match actual values.\n",
        "\n",
        "Most data points are clustered closely around the red line, which indicates that the model has a strong ability to estimate salary.\n",
        "Some points deviate from the line, especially in the higher salary range, suggesting that predictions tend to slightly under- or overestimate in extreme cases."
      ]
    },
    {
      "cell_type": "markdown",
      "metadata": {},
      "source": [
        "# Submission {.unnumbered}\n",
        "1. Save figures in the `_output/` folder.\n",
        "2. Commit and push code and output files:\n",
        "```bash\n",
        "git add .\n",
        "git commit -m \"Add Lab 08 Salary Prediction models and output\"\n",
        "git push origin main\n",
        "```\n",
        "3. Submit your GitHub repository link.\n",
        "\n",
        "# Resources {.unnumbered}\n",
        "- [PySpark MLlib Docs](https://spark.apache.org/docs/latest/ml-guide.html)  \n",
        "- [Seaborn Docs](https://seaborn.pydata.org/)  \n",
        "- [Pandas User Guide](https://pandas.pydata.org/docs/user_guide/index.html)\n"
      ]
    }
  ],
  "metadata": {
    "kernelspec": {
      "display_name": "Python (venv)",
      "language": "python",
      "name": "venv"
    },
    "language_info": {
      "codemirror_mode": {
        "name": "ipython",
        "version": 3
      },
      "file_extension": ".py",
      "mimetype": "text/x-python",
      "name": "python",
      "nbconvert_exporter": "python",
      "pygments_lexer": "ipython3",
      "version": "3.12.3"
    }
  },
  "nbformat": 4,
  "nbformat_minor": 4
}
